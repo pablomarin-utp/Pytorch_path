{
 "cells": [
  {
   "cell_type": "markdown",
   "id": "39697c2e-ee21-44ab-9f10-8a14349acf0e",
   "metadata": {},
   "source": [
    "# Training a simple neural network on the MNIST Dataset with pytorch\n",
    "This is the start of the journey to learn pytorch. I already know tensorflow, its just transpile (:d) my knowledge"
   ]
  },
  {
   "cell_type": "markdown",
   "id": "ba04d077-d83a-494b-8818-8b5a3f25e8e7",
   "metadata": {},
   "source": [
    "## Importing"
   ]
  },
  {
   "cell_type": "code",
   "execution_count": 1,
   "id": "490cd33a-c329-4362-ac63-47565c787ed8",
   "metadata": {},
   "outputs": [],
   "source": [
    "import torch, random, numpy as np\n",
    "import torch.nn as nn \n",
    "import torch.nn.functional as F \n",
    "import torch.optim as optim \n",
    "from torchvision import datasets, transforms"
   ]
  },
  {
   "cell_type": "code",
   "execution_count": 2,
   "id": "3a5dc819-0926-43d3-9036-dd333f0ad166",
   "metadata": {},
   "outputs": [],
   "source": [
    "SEED = 42\n",
    "torch.manual_seed(SEED)\n",
    "torch.cuda.manual_seed(SEED)\n",
    "torch.cuda.manual_seed_all(SEED)  # si usas multi-GPU\n",
    "np.random.seed(SEED)\n",
    "random.seed(SEED)\n",
    "\n",
    "torch.backends.cudnn.deterministic = True\n",
    "torch.backends.cudnn.benchmark = False"
   ]
  },
  {
   "cell_type": "markdown",
   "id": "04777140-e2b5-47d3-969e-4f757df8edb9",
   "metadata": {},
   "source": [
    "## Dataset splits and preprocessing "
   ]
  },
  {
   "cell_type": "markdown",
   "id": "6d81a8ea-4dfa-4f48-a317-31fc155446ad",
   "metadata": {},
   "source": [
    "We make a simple preprocessing because the MNIST dataset don't require huge processing."
   ]
  },
  {
   "cell_type": "code",
   "execution_count": 3,
   "id": "1c382744-bba2-4b94-beed-c3a1db804ae3",
   "metadata": {},
   "outputs": [],
   "source": [
    "transform = transforms.Compose([\n",
    "    transforms.ToTensor(),       \n",
    "    transforms.Normalize((0.5,), (0.5,)) #this is like the scaler of tensorflow\n",
    "])\n",
    "\n",
    "\n",
    "train_loader = torch.utils.data.DataLoader(\n",
    "    datasets.MNIST(\"./data\", train=True, download=True, transform=transform), #we use\n",
    "    batch_size=64,\n",
    "    shuffle=True\n",
    ")\n",
    "\n",
    "test_loader = torch.utils.data.DataLoader(\n",
    "    datasets.MNIST(\"./data\", train=False, download=True, transform=transform),\n",
    "    batch_size=1000,\n",
    "    shuffle=False\n",
    ")"
   ]
  },
  {
   "cell_type": "markdown",
   "id": "9c559ce4-9ff5-4044-9d03-a3242b425a01",
   "metadata": {},
   "source": [
    "## Neural Network arquitecture"
   ]
  },
  {
   "cell_type": "code",
   "execution_count": 4,
   "id": "7ca7d14d-46d4-48e6-8abe-9c4983bc7dd7",
   "metadata": {},
   "outputs": [],
   "source": [
    "class SimpleCNN(nn.Module):\n",
    "    def __init__(self):\n",
    "        super(SimpleCNN, self).__init__()\n",
    "        self.conv1 = nn.Conv2d(1,16,3,1)\n",
    "        self.conv2 = nn.Conv2d(16,32,3,1)\n",
    "        self.full1 = nn.Linear(12*12*32,128)\n",
    "        self.full2 = nn.Linear(128,10)\n",
    "        \n",
    "    def forward(self, x):\n",
    "        x = F.relu(self.conv1(x))\n",
    "        x = F.relu(self.conv2(x))\n",
    "        x = F.max_pool2d(x,2)\n",
    "        x = torch.flatten(x,1)\n",
    "        x = F.relu(self.full1(x))\n",
    "        x = self.full2(x)\n",
    "\n",
    "        return x"
   ]
  },
  {
   "cell_type": "code",
   "execution_count": 5,
   "id": "78bdd847-fc68-41fe-ad0b-276a331a9fbc",
   "metadata": {},
   "outputs": [],
   "source": [
    "model = SimpleCNN()"
   ]
  },
  {
   "cell_type": "code",
   "execution_count": 6,
   "id": "0bb58155-02d4-4e19-baf7-b98690c54359",
   "metadata": {},
   "outputs": [],
   "source": [
    "optimizer = optim.Adam(model.parameters(), lr=0.001)\n",
    "metric = nn.CrossEntropyLoss()"
   ]
  },
  {
   "cell_type": "markdown",
   "id": "dd05a1af-c310-4549-95d9-3d152556aa3e",
   "metadata": {},
   "source": [
    "## Training Function"
   ]
  },
  {
   "cell_type": "code",
   "execution_count": 7,
   "id": "15b8dc02-3aed-47ad-8a2f-8ef6fa07d0e6",
   "metadata": {},
   "outputs": [],
   "source": [
    "def train(model, train_loader, device, metric, epochs, optimizer):\n",
    "    model.train()\n",
    "    for batch_idx, (data, targets) in enumerate(train_loader):\n",
    "\n",
    "        data, targets = data.to(device), targets.to(device)\n",
    "\n",
    "        optimizer.zero_grad()\n",
    "\n",
    "        output = model(data)\n",
    "\n",
    "        loss = metric(output, targets)\n",
    "\n",
    "        loss.backward()\n",
    "\n",
    "        optimizer.step()\n",
    "\n",
    "        if batch_idx % 100 == 0:\n",
    "            print(f\"Época {epoch} | Lote {batch_idx} | Pérdida: {loss.item():.4f}\")"
   ]
  },
  {
   "cell_type": "markdown",
   "id": "e4f381f0-61f3-4eea-a3d9-f0b50afe3797",
   "metadata": {},
   "source": [
    "## Evaluating function"
   ]
  },
  {
   "cell_type": "code",
   "execution_count": 8,
   "id": "5f2f697c-b0d1-4688-9167-e57af7a19ccb",
   "metadata": {},
   "outputs": [],
   "source": [
    "def evaluate(model, device, test_loader, metric):\n",
    "    model.eval()\n",
    "    test_loss = 0\n",
    "    correct = 0\n",
    "\n",
    "    with torch.no_grad():\n",
    "        for batch_idx, (data, targets) in enumerate(test_loader):\n",
    "            data, targets = data.to(device), targets.to(device)\n",
    "\n",
    "            output = model(data)\n",
    "\n",
    "            test_loss += metric(output, targets).item()\n",
    "\n",
    "            pred = output.argmax(dim=1, keepdim=True)\n",
    "\n",
    "            correct += pred.eq(targets.view_as(pred)).sum().item()\n",
    "\n",
    "        test_loss /= len(test_loader.dataset)\n",
    "        accuracy = 100 * correct / len(test_loader.dataset)\n",
    "\n",
    "    print(f\"\\nPérdida promedio en test: {test_loss:.4f}, Precisión: {accuracy:.2f}%\\n\")\n",
    "    return test_loss, accuracy\n",
    "    "
   ]
  },
  {
   "cell_type": "markdown",
   "id": "1b7d4881-0dda-413f-a1c5-9573895db35b",
   "metadata": {},
   "source": [
    "## Training and evaluation"
   ]
  },
  {
   "cell_type": "code",
   "execution_count": 9,
   "id": "64079c81-9cac-4019-8e4b-49154fcfec95",
   "metadata": {},
   "outputs": [
    {
     "name": "stdout",
     "output_type": "stream",
     "text": [
      "Época 1 | Lote 0 | Pérdida: 2.2965\n",
      "Época 1 | Lote 100 | Pérdida: 0.2903\n",
      "Época 1 | Lote 200 | Pérdida: 0.1690\n",
      "Época 1 | Lote 300 | Pérdida: 0.0579\n",
      "Época 1 | Lote 400 | Pérdida: 0.0512\n",
      "Época 1 | Lote 500 | Pérdida: 0.1974\n",
      "Época 1 | Lote 600 | Pérdida: 0.0400\n",
      "Época 1 | Lote 700 | Pérdida: 0.0152\n",
      "Época 1 | Lote 800 | Pérdida: 0.1052\n",
      "Época 1 | Lote 900 | Pérdida: 0.1103\n",
      "\n",
      "Pérdida promedio en test: 0.0001, Precisión: 98.09%\n",
      "\n",
      "Época 2 | Lote 0 | Pérdida: 0.1785\n",
      "Época 2 | Lote 100 | Pérdida: 0.0392\n",
      "Época 2 | Lote 200 | Pérdida: 0.0049\n",
      "Época 2 | Lote 300 | Pérdida: 0.0515\n",
      "Época 2 | Lote 400 | Pérdida: 0.0363\n",
      "Época 2 | Lote 500 | Pérdida: 0.0446\n",
      "Época 2 | Lote 600 | Pérdida: 0.1856\n",
      "Época 2 | Lote 700 | Pérdida: 0.1785\n",
      "Época 2 | Lote 800 | Pérdida: 0.0106\n",
      "Época 2 | Lote 900 | Pérdida: 0.0549\n",
      "\n",
      "Pérdida promedio en test: 0.0000, Precisión: 98.47%\n",
      "\n",
      "Época 3 | Lote 0 | Pérdida: 0.0124\n",
      "Época 3 | Lote 100 | Pérdida: 0.0560\n",
      "Época 3 | Lote 200 | Pérdida: 0.0027\n",
      "Época 3 | Lote 300 | Pérdida: 0.0193\n",
      "Época 3 | Lote 400 | Pérdida: 0.0022\n",
      "Época 3 | Lote 500 | Pérdida: 0.0130\n",
      "Época 3 | Lote 600 | Pérdida: 0.0043\n",
      "Época 3 | Lote 700 | Pérdida: 0.0144\n",
      "Época 3 | Lote 800 | Pérdida: 0.0265\n",
      "Época 3 | Lote 900 | Pérdida: 0.0164\n",
      "\n",
      "Pérdida promedio en test: 0.0000, Precisión: 98.86%\n",
      "\n",
      "Época 4 | Lote 0 | Pérdida: 0.0036\n",
      "Época 4 | Lote 100 | Pérdida: 0.0691\n",
      "Época 4 | Lote 200 | Pérdida: 0.0077\n",
      "Época 4 | Lote 300 | Pérdida: 0.0118\n",
      "Época 4 | Lote 400 | Pérdida: 0.1362\n",
      "Época 4 | Lote 500 | Pérdida: 0.0055\n",
      "Época 4 | Lote 600 | Pérdida: 0.0244\n",
      "Época 4 | Lote 700 | Pérdida: 0.0428\n",
      "Época 4 | Lote 800 | Pérdida: 0.0196\n",
      "Época 4 | Lote 900 | Pérdida: 0.1253\n",
      "\n",
      "Pérdida promedio en test: 0.0000, Precisión: 98.84%\n",
      "\n",
      "Época 5 | Lote 0 | Pérdida: 0.0107\n",
      "Época 5 | Lote 100 | Pérdida: 0.0128\n",
      "Época 5 | Lote 200 | Pérdida: 0.1146\n",
      "Época 5 | Lote 300 | Pérdida: 0.0020\n",
      "Época 5 | Lote 400 | Pérdida: 0.0029\n",
      "Época 5 | Lote 500 | Pérdida: 0.0573\n",
      "Época 5 | Lote 600 | Pérdida: 0.0014\n",
      "Época 5 | Lote 700 | Pérdida: 0.1179\n",
      "Época 5 | Lote 800 | Pérdida: 0.0219\n",
      "Época 5 | Lote 900 | Pérdida: 0.0024\n",
      "\n",
      "Pérdida promedio en test: 0.0000, Precisión: 98.72%\n",
      "\n"
     ]
    }
   ],
   "source": [
    "device = torch.device(\"cuda\" if torch.cuda.is_available() else \"cpu\")\n",
    "\n",
    "for epoch in range(1, 6):  # entrenamos 5 épocas\n",
    "    train(model, train_loader, device, metric, epoch, optimizer)\n",
    "    evaluate(model, device, test_loader, metric)\n"
   ]
  },
  {
   "cell_type": "code",
   "execution_count": 10,
   "id": "fd81268a-2076-486c-b152-950828ff7717",
   "metadata": {},
   "outputs": [
    {
     "data": {
      "text/plain": [
       "SimpleCNN(\n",
       "  (conv1): Conv2d(1, 16, kernel_size=(3, 3), stride=(1, 1))\n",
       "  (conv2): Conv2d(16, 32, kernel_size=(3, 3), stride=(1, 1))\n",
       "  (full1): Linear(in_features=4608, out_features=128, bias=True)\n",
       "  (full2): Linear(in_features=128, out_features=10, bias=True)\n",
       ")"
      ]
     },
     "execution_count": 10,
     "metadata": {},
     "output_type": "execute_result"
    }
   ],
   "source": [
    "# Guardar pesos\n",
    "torch.save(model.state_dict(), \"modelo_mnist.pth\")\n",
    "\n",
    "# Cargar pesos después\n",
    "model = SimpleCNN()              # recreas el modelo\n",
    "model.load_state_dict(torch.load(\"modelo_mnist.pth\"))\n",
    "model.eval()                     # modo evaluación\n"
   ]
  },
  {
   "cell_type": "markdown",
   "id": "d412ee6d-9089-48d1-8078-b42716e70570",
   "metadata": {},
   "source": [
    "## Using the CIFAR-10 dataset"
   ]
  },
  {
   "cell_type": "code",
   "execution_count": null,
   "id": "1ecf9761-a4bc-4dd7-b5b3-559b07420b2a",
   "metadata": {},
   "outputs": [],
   "source": [
    "transform = transforms.Compose([\n",
    "    transforms.ToTensor(),       \n",
    "    transforms.Normalize((0.5,0.5,0.5), (0.5,)) #this is like the scaler of tensorflow\n",
    "])\n",
    "\n",
    "\n",
    "train_loader = torch.utils.data.DataLoader(\n",
    "    datasets.MNIST(\"./data\", train=True, download=True, transform=transform), #we use\n",
    "    batch_size=64,\n",
    "    shuffle=True\n",
    ")\n",
    "\n",
    "test_loader = torch.utils.data.DataLoader(\n",
    "    datasets.MNIST(\"./data\", train=False, download=True, transform=transform),\n",
    "    batch_size=1000,\n",
    "    shuffle=False\n",
    ")"
   ]
  }
 ],
 "metadata": {
  "kernelspec": {
   "display_name": "Python (pytorch_env)",
   "language": "python",
   "name": "pytorch_env"
  },
  "language_info": {
   "codemirror_mode": {
    "name": "ipython",
    "version": 3
   },
   "file_extension": ".py",
   "mimetype": "text/x-python",
   "name": "python",
   "nbconvert_exporter": "python",
   "pygments_lexer": "ipython3",
   "version": "3.10.18"
  }
 },
 "nbformat": 4,
 "nbformat_minor": 5
}
