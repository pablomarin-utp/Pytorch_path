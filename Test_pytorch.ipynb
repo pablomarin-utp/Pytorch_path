{
 "cells": [
  {
   "cell_type": "markdown",
   "id": "39697c2e-ee21-44ab-9f10-8a14349acf0e",
   "metadata": {},
   "source": [
    "# Training a simple neural network on the MNIST Dataset with pytorch\n",
    "This is the start of the journey to learn pytorch. I already know tensorflow, its just transpile (:d) my knowledge"
   ]
  },
  {
   "cell_type": "markdown",
   "id": "ba04d077-d83a-494b-8818-8b5a3f25e8e7",
   "metadata": {},
   "source": [
    "## Importing"
   ]
  },
  {
   "cell_type": "code",
   "execution_count": 1,
   "id": "490cd33a-c329-4362-ac63-47565c787ed8",
   "metadata": {},
   "outputs": [],
   "source": [
    "import torch, random, numpy as np\n",
    "import torch.nn as nn \n",
    "import torch.nn.functional as F \n",
    "import torch.optim as optim \n",
    "from torchvision import datasets, transforms"
   ]
  },
  {
   "cell_type": "code",
   "execution_count": 2,
   "id": "3a5dc819-0926-43d3-9036-dd333f0ad166",
   "metadata": {},
   "outputs": [],
   "source": [
    "SEED = 42\n",
    "torch.manual_seed(SEED)\n",
    "torch.cuda.manual_seed(SEED)\n",
    "torch.cuda.manual_seed_all(SEED)  # si usas multi-GPU\n",
    "np.random.seed(SEED)\n",
    "random.seed(SEED)\n",
    "\n",
    "torch.backends.cudnn.deterministic = True\n",
    "torch.backends.cudnn.benchmark = False"
   ]
  },
  {
   "cell_type": "markdown",
   "id": "04777140-e2b5-47d3-969e-4f757df8edb9",
   "metadata": {},
   "source": [
    "## Dataset splits and preprocessing "
   ]
  },
  {
   "cell_type": "markdown",
   "id": "6d81a8ea-4dfa-4f48-a317-31fc155446ad",
   "metadata": {},
   "source": [
    "We make a simple preprocessing because the MNIST dataset don't require huge processing."
   ]
  },
  {
   "cell_type": "code",
   "execution_count": 3,
   "id": "1c382744-bba2-4b94-beed-c3a1db804ae3",
   "metadata": {},
   "outputs": [],
   "source": [
    "transform = transforms.Compose([\n",
    "    transforms.ToTensor(),       \n",
    "    transforms.Normalize((0.5,), (0.5,)) #this is like the scaler of tensorflow\n",
    "])\n",
    "\n",
    "\n",
    "train_loader = torch.utils.data.DataLoader(\n",
    "    datasets.MNIST(\"./data\", train=True, download=True, transform=transform), #we use\n",
    "    batch_size=64,\n",
    "    shuffle=True\n",
    ")\n",
    "\n",
    "test_loader = torch.utils.data.DataLoader(\n",
    "    datasets.MNIST(\"./data\", train=False, download=True, transform=transform),\n",
    "    batch_size=1000,\n",
    "    shuffle=False\n",
    ")"
   ]
  },
  {
   "cell_type": "markdown",
   "id": "9c559ce4-9ff5-4044-9d03-a3242b425a01",
   "metadata": {},
   "source": [
    "## Neural Network arquitecture"
   ]
  },
  {
   "cell_type": "code",
   "execution_count": 28,
   "id": "7ca7d14d-46d4-48e6-8abe-9c4983bc7dd7",
   "metadata": {},
   "outputs": [],
   "source": [
    "class SimpleCNN(nn.Module):\n",
    "    def __init__(self):\n",
    "        super(SimpleCNN, self).__init__()\n",
    "        self.conv1 = nn.Conv2d(1,16,3,1)\n",
    "        self.conv2 = nn.Conv2d(16,32,3,1)\n",
    "        self.full1 = nn.Linear(12*12*32,128)\n",
    "        self.full2 = nn.Linear(128,10)\n",
    "        \n",
    "    def forward(self, x):\n",
    "        x = F.relu(self.conv1(x))\n",
    "        x = F.relu(self.conv2(x))\n",
    "        x = F.max_pool2d(x,2)\n",
    "        x = torch.flatten(x,1)\n",
    "        x = F.relu(self.full1(x))\n",
    "        x = self.full2(x)\n",
    "\n",
    "        return x"
   ]
  },
  {
   "cell_type": "code",
   "execution_count": 12,
   "id": "78bdd847-fc68-41fe-ad0b-276a331a9fbc",
   "metadata": {},
   "outputs": [],
   "source": [
    "model = SimpleCNN()"
   ]
  },
  {
   "cell_type": "code",
   "execution_count": 14,
   "id": "0bb58155-02d4-4e19-baf7-b98690c54359",
   "metadata": {},
   "outputs": [],
   "source": [
    "optimizer = optim.Adam(model.parameters(), lr=0.001)\n",
    "metric = nn.CrossEntropyLoss()"
   ]
  },
  {
   "cell_type": "markdown",
   "id": "dd05a1af-c310-4549-95d9-3d152556aa3e",
   "metadata": {},
   "source": [
    "## Training Function"
   ]
  },
  {
   "cell_type": "code",
   "execution_count": 6,
   "id": "15b8dc02-3aed-47ad-8a2f-8ef6fa07d0e6",
   "metadata": {},
   "outputs": [],
   "source": [
    "def train(model, train_loader, device, metric, epochs, optimizer):\n",
    "    model.train()\n",
    "    for batch_idx, (data, targets) in enumerate(train_loader):\n",
    "\n",
    "        data, targets = data.to(device), targets.to(device)\n",
    "\n",
    "        optimizer.zero_grad()\n",
    "\n",
    "        output = model(data)\n",
    "\n",
    "        loss = metric(output, targets)\n",
    "\n",
    "        loss.backward()\n",
    "\n",
    "        optimizer.step()\n",
    "\n",
    "        if batch_idx % 100 == 0:\n",
    "            print(f\"Época {epoch} | Lote {batch_idx} | Pérdida: {loss.item():.4f}\")"
   ]
  },
  {
   "cell_type": "markdown",
   "id": "e4f381f0-61f3-4eea-a3d9-f0b50afe3797",
   "metadata": {},
   "source": [
    "## Evaluating function"
   ]
  },
  {
   "cell_type": "code",
   "execution_count": 7,
   "id": "5f2f697c-b0d1-4688-9167-e57af7a19ccb",
   "metadata": {},
   "outputs": [],
   "source": [
    "def evaluate(model, device, test_loader, metric):\n",
    "    model.eval()\n",
    "    test_loss = 0\n",
    "    correct = 0\n",
    "\n",
    "    with torch.no_grad():\n",
    "        for batch_idx, (data, targets) in enumerate(test_loader):\n",
    "            data, targets = data.to(device), targets.to(device)\n",
    "\n",
    "            output = model(data)\n",
    "\n",
    "            test_loss += metric(output, targets).item()\n",
    "\n",
    "            pred = output.argmax(dim=1, keepdim=True)\n",
    "\n",
    "            correct += pred.eq(targets.view_as(pred)).sum().item()\n",
    "\n",
    "        test_loss /= len(test_loader.dataset)\n",
    "        accuracy = 100 * correct / len(test_loader.dataset)\n",
    "\n",
    "    print(f\"\\nPérdida promedio en test: {test_loss:.4f}, Precisión: {accuracy:.2f}%\\n\")\n",
    "    return test_loss, accuracy\n",
    "    "
   ]
  },
  {
   "cell_type": "markdown",
   "id": "1b7d4881-0dda-413f-a1c5-9573895db35b",
   "metadata": {},
   "source": [
    "## Training and evaluation"
   ]
  },
  {
   "cell_type": "code",
   "execution_count": 9,
   "id": "64079c81-9cac-4019-8e4b-49154fcfec95",
   "metadata": {},
   "outputs": [
    {
     "name": "stdout",
     "output_type": "stream",
     "text": [
      "Época 1 | Lote 0 | Pérdida: 2.2965\n",
      "Época 1 | Lote 100 | Pérdida: 0.2903\n",
      "Época 1 | Lote 200 | Pérdida: 0.1690\n",
      "Época 1 | Lote 300 | Pérdida: 0.0579\n",
      "Época 1 | Lote 400 | Pérdida: 0.0512\n",
      "Época 1 | Lote 500 | Pérdida: 0.1974\n",
      "Época 1 | Lote 600 | Pérdida: 0.0400\n",
      "Época 1 | Lote 700 | Pérdida: 0.0152\n",
      "Época 1 | Lote 800 | Pérdida: 0.1052\n",
      "Época 1 | Lote 900 | Pérdida: 0.1103\n",
      "\n",
      "Pérdida promedio en test: 0.0001, Precisión: 98.09%\n",
      "\n",
      "Época 2 | Lote 0 | Pérdida: 0.1785\n",
      "Época 2 | Lote 100 | Pérdida: 0.0392\n",
      "Época 2 | Lote 200 | Pérdida: 0.0049\n",
      "Época 2 | Lote 300 | Pérdida: 0.0515\n",
      "Época 2 | Lote 400 | Pérdida: 0.0363\n",
      "Época 2 | Lote 500 | Pérdida: 0.0446\n",
      "Época 2 | Lote 600 | Pérdida: 0.1856\n",
      "Época 2 | Lote 700 | Pérdida: 0.1785\n",
      "Época 2 | Lote 800 | Pérdida: 0.0106\n",
      "Época 2 | Lote 900 | Pérdida: 0.0549\n",
      "\n",
      "Pérdida promedio en test: 0.0000, Precisión: 98.47%\n",
      "\n",
      "Época 3 | Lote 0 | Pérdida: 0.0124\n",
      "Época 3 | Lote 100 | Pérdida: 0.0560\n",
      "Época 3 | Lote 200 | Pérdida: 0.0027\n",
      "Época 3 | Lote 300 | Pérdida: 0.0193\n",
      "Época 3 | Lote 400 | Pérdida: 0.0022\n",
      "Época 3 | Lote 500 | Pérdida: 0.0130\n",
      "Época 3 | Lote 600 | Pérdida: 0.0043\n",
      "Época 3 | Lote 700 | Pérdida: 0.0144\n",
      "Época 3 | Lote 800 | Pérdida: 0.0265\n",
      "Época 3 | Lote 900 | Pérdida: 0.0164\n",
      "\n",
      "Pérdida promedio en test: 0.0000, Precisión: 98.86%\n",
      "\n",
      "Época 4 | Lote 0 | Pérdida: 0.0036\n",
      "Época 4 | Lote 100 | Pérdida: 0.0691\n",
      "Época 4 | Lote 200 | Pérdida: 0.0077\n",
      "Época 4 | Lote 300 | Pérdida: 0.0118\n",
      "Época 4 | Lote 400 | Pérdida: 0.1362\n",
      "Época 4 | Lote 500 | Pérdida: 0.0055\n",
      "Época 4 | Lote 600 | Pérdida: 0.0244\n",
      "Época 4 | Lote 700 | Pérdida: 0.0428\n",
      "Época 4 | Lote 800 | Pérdida: 0.0196\n",
      "Época 4 | Lote 900 | Pérdida: 0.1253\n",
      "\n",
      "Pérdida promedio en test: 0.0000, Precisión: 98.84%\n",
      "\n",
      "Época 5 | Lote 0 | Pérdida: 0.0107\n",
      "Época 5 | Lote 100 | Pérdida: 0.0128\n",
      "Época 5 | Lote 200 | Pérdida: 0.1146\n",
      "Época 5 | Lote 300 | Pérdida: 0.0020\n",
      "Época 5 | Lote 400 | Pérdida: 0.0029\n",
      "Época 5 | Lote 500 | Pérdida: 0.0573\n",
      "Época 5 | Lote 600 | Pérdida: 0.0014\n",
      "Época 5 | Lote 700 | Pérdida: 0.1179\n",
      "Época 5 | Lote 800 | Pérdida: 0.0219\n",
      "Época 5 | Lote 900 | Pérdida: 0.0024\n",
      "\n",
      "Pérdida promedio en test: 0.0000, Precisión: 98.72%\n",
      "\n"
     ]
    }
   ],
   "source": [
    "device = torch.device(\"cuda\" if torch.cuda.is_available() else \"cpu\")\n",
    "\n",
    "for epoch in range(1, 6):  # entrenamos 5 épocas\n",
    "    train(model, train_loader, device, metric, epoch, optimizer)\n",
    "    evaluate(model, device, test_loader, metric)\n"
   ]
  },
  {
   "cell_type": "code",
   "execution_count": 10,
   "id": "fd81268a-2076-486c-b152-950828ff7717",
   "metadata": {},
   "outputs": [
    {
     "data": {
      "text/plain": [
       "SimpleCNN(\n",
       "  (conv1): Conv2d(1, 16, kernel_size=(3, 3), stride=(1, 1))\n",
       "  (conv2): Conv2d(16, 32, kernel_size=(3, 3), stride=(1, 1))\n",
       "  (full1): Linear(in_features=4608, out_features=128, bias=True)\n",
       "  (full2): Linear(in_features=128, out_features=10, bias=True)\n",
       ")"
      ]
     },
     "execution_count": 10,
     "metadata": {},
     "output_type": "execute_result"
    }
   ],
   "source": [
    "# Guardar pesos\n",
    "torch.save(model.state_dict(), \"modelo_mnist.pth\")\n",
    "\n",
    "# Cargar pesos después\n",
    "model = SimpleCNN()              # recreas el modelo\n",
    "model.load_state_dict(torch.load(\"modelo_mnist.pth\"))\n",
    "model.eval()                     # modo evaluación\n"
   ]
  },
  {
   "cell_type": "markdown",
   "id": "d412ee6d-9089-48d1-8078-b42716e70570",
   "metadata": {},
   "source": [
    "## Using the CIFAR-10 dataset"
   ]
  },
  {
   "cell_type": "markdown",
   "id": "04bf15eb-9637-4655-826a-20c1d5f3908b",
   "metadata": {},
   "source": [
    "## Pre processing"
   ]
  },
  {
   "cell_type": "code",
   "execution_count": 3,
   "id": "1ecf9761-a4bc-4dd7-b5b3-559b07420b2a",
   "metadata": {},
   "outputs": [],
   "source": [
    "transform = transforms.Compose([\n",
    "    transforms.ToTensor(),       \n",
    "    transforms.Normalize((0.5,0.5,0.5), (0.5,)) #this is like the scaler of tensorflow\n",
    "])\n",
    "\n",
    "\n",
    "train_loader = torch.utils.data.DataLoader(\n",
    "    datasets.CIFAR10(\"./data\", train=True, download=True, transform=transform), #we use\n",
    "    batch_size=64,\n",
    "    shuffle=True\n",
    ")\n",
    "\n",
    "test_loader = torch.utils.data.DataLoader(\n",
    "    datasets.CIFAR10(\"./data\", train=False, download=True, transform=transform),\n",
    "    batch_size=1000,\n",
    "    shuffle=False\n",
    ")"
   ]
  },
  {
   "cell_type": "markdown",
   "id": "03d37b28-e156-41bc-b51b-331607653268",
   "metadata": {},
   "source": [
    "## Architecture"
   ]
  },
  {
   "cell_type": "markdown",
   "id": "1a5e2287-07e5-45b7-bb07-5e5a0910ff31",
   "metadata": {},
   "source": [
    "Lets try with the same architecture. (i'd think it would cause underfitting)"
   ]
  },
  {
   "cell_type": "code",
   "execution_count": 4,
   "id": "1a3de5f3-4b4e-4a69-a27c-4d674ec0c785",
   "metadata": {},
   "outputs": [],
   "source": [
    "class SimpleCNN(nn.Module):\n",
    "    def __init__(self):\n",
    "        super(SimpleCNN, self).__init__()\n",
    "        self.conv1 = nn.Conv2d(3,16,3,1) #only change the chanels\n",
    "        self.conv2 = nn.Conv2d(16,32,3,1)\n",
    "        self.full1 = nn.Linear(14*14*32,128)\n",
    "        self.full2 = nn.Linear(128,10)\n",
    "        \n",
    "    def forward(self, x):\n",
    "        x = F.relu(self.conv1(x))\n",
    "        x = F.relu(self.conv2(x))\n",
    "        x = F.max_pool2d(x,2)\n",
    "        x = torch.flatten(x,1)\n",
    "        x = F.relu(self.full1(x))\n",
    "        x = self.full2(x)\n",
    "\n",
    "        return x"
   ]
  },
  {
   "cell_type": "code",
   "execution_count": 5,
   "id": "f2b1dd8a-0dce-4bfe-b6a0-584ec1d4efa5",
   "metadata": {},
   "outputs": [],
   "source": [
    "model = SimpleCNN() "
   ]
  },
  {
   "cell_type": "code",
   "execution_count": 49,
   "id": "d4c23965-7e4a-4af1-bce2-c969d97760d1",
   "metadata": {},
   "outputs": [
    {
     "name": "stdout",
     "output_type": "stream",
     "text": [
      "Época 1 | Lote 0 | Pérdida: 2.3027\n",
      "Época 1 | Lote 100 | Pérdida: 2.2850\n",
      "Época 1 | Lote 200 | Pérdida: 2.2963\n",
      "Época 1 | Lote 300 | Pérdida: 2.3140\n",
      "Época 1 | Lote 400 | Pérdida: 2.3053\n",
      "Época 1 | Lote 500 | Pérdida: 2.3117\n",
      "Época 1 | Lote 600 | Pérdida: 2.3093\n",
      "Época 1 | Lote 700 | Pérdida: 2.3017\n",
      "\n",
      "Pérdida promedio en test: 0.0023, Precisión: 9.95%\n",
      "\n",
      "Época 2 | Lote 0 | Pérdida: 2.2908\n",
      "Época 2 | Lote 100 | Pérdida: 2.2999\n",
      "Época 2 | Lote 200 | Pérdida: 2.3027\n",
      "Época 2 | Lote 300 | Pérdida: 2.3034\n",
      "Época 2 | Lote 400 | Pérdida: 2.3063\n",
      "Época 2 | Lote 500 | Pérdida: 2.3031\n",
      "Época 2 | Lote 600 | Pérdida: 2.3031\n",
      "Época 2 | Lote 700 | Pérdida: 2.3058\n",
      "\n",
      "Pérdida promedio en test: 0.0023, Precisión: 9.95%\n",
      "\n",
      "Época 3 | Lote 0 | Pérdida: 2.3128\n",
      "Época 3 | Lote 100 | Pérdida: 2.3115\n",
      "Época 3 | Lote 200 | Pérdida: 2.3054\n",
      "Época 3 | Lote 300 | Pérdida: 2.3079\n",
      "Época 3 | Lote 400 | Pérdida: 2.3068\n",
      "Época 3 | Lote 500 | Pérdida: 2.2965\n",
      "Época 3 | Lote 600 | Pérdida: 2.3062\n",
      "Época 3 | Lote 700 | Pérdida: 2.3090\n",
      "\n",
      "Pérdida promedio en test: 0.0023, Precisión: 9.95%\n",
      "\n",
      "Época 4 | Lote 0 | Pérdida: 2.2997\n",
      "Época 4 | Lote 100 | Pérdida: 2.3109\n",
      "Época 4 | Lote 200 | Pérdida: 2.3038\n",
      "Época 4 | Lote 300 | Pérdida: 2.3140\n",
      "Época 4 | Lote 400 | Pérdida: 2.3096\n",
      "Época 4 | Lote 500 | Pérdida: 2.3012\n",
      "Época 4 | Lote 600 | Pérdida: 2.3039\n"
     ]
    },
    {
     "ename": "KeyboardInterrupt",
     "evalue": "",
     "output_type": "error",
     "traceback": [
      "\u001b[1;31m--------------------------------------------------------------------\u001b[0m",
      "\u001b[1;31mKeyboardInterrupt\u001b[0m                  Traceback (most recent call last)",
      "Cell \u001b[1;32mIn[49], line 4\u001b[0m\n\u001b[0;32m      1\u001b[0m device \u001b[38;5;241m=\u001b[39m torch\u001b[38;5;241m.\u001b[39mdevice(\u001b[38;5;124m\"\u001b[39m\u001b[38;5;124mcuda\u001b[39m\u001b[38;5;124m\"\u001b[39m \u001b[38;5;28;01mif\u001b[39;00m torch\u001b[38;5;241m.\u001b[39mcuda\u001b[38;5;241m.\u001b[39mis_available() \u001b[38;5;28;01melse\u001b[39;00m \u001b[38;5;124m\"\u001b[39m\u001b[38;5;124mcpu\u001b[39m\u001b[38;5;124m\"\u001b[39m)\n\u001b[0;32m      3\u001b[0m \u001b[38;5;28;01mfor\u001b[39;00m epoch \u001b[38;5;129;01min\u001b[39;00m \u001b[38;5;28mrange\u001b[39m(\u001b[38;5;241m1\u001b[39m, \u001b[38;5;241m6\u001b[39m):  \u001b[38;5;66;03m# entrenamos 5 épocas\u001b[39;00m\n\u001b[1;32m----> 4\u001b[0m     \u001b[43mtrain\u001b[49m\u001b[43m(\u001b[49m\u001b[43mmodel\u001b[49m\u001b[43m,\u001b[49m\u001b[43m \u001b[49m\u001b[43mtrain_loader\u001b[49m\u001b[43m,\u001b[49m\u001b[43m \u001b[49m\u001b[43mdevice\u001b[49m\u001b[43m,\u001b[49m\u001b[43m \u001b[49m\u001b[43mmetric\u001b[49m\u001b[43m,\u001b[49m\u001b[43m \u001b[49m\u001b[43mepoch\u001b[49m\u001b[43m,\u001b[49m\u001b[43m \u001b[49m\u001b[43moptimizer\u001b[49m\u001b[43m)\u001b[49m\n\u001b[0;32m      5\u001b[0m     evaluate(model, device, test_loader, metric)\n",
      "Cell \u001b[1;32mIn[44], line 13\u001b[0m, in \u001b[0;36mtrain\u001b[1;34m(model, train_loader, device, metric, epochs, optimizer)\u001b[0m\n\u001b[0;32m      9\u001b[0m output \u001b[38;5;241m=\u001b[39m model(data)\n\u001b[0;32m     11\u001b[0m loss \u001b[38;5;241m=\u001b[39m metric(output, targets)\n\u001b[1;32m---> 13\u001b[0m \u001b[43mloss\u001b[49m\u001b[38;5;241;43m.\u001b[39;49m\u001b[43mbackward\u001b[49m\u001b[43m(\u001b[49m\u001b[43m)\u001b[49m\n\u001b[0;32m     15\u001b[0m optimizer\u001b[38;5;241m.\u001b[39mstep()\n\u001b[0;32m     17\u001b[0m \u001b[38;5;28;01mif\u001b[39;00m batch_idx \u001b[38;5;241m%\u001b[39m \u001b[38;5;241m100\u001b[39m \u001b[38;5;241m==\u001b[39m \u001b[38;5;241m0\u001b[39m:\n",
      "File \u001b[1;32m~\\miniconda3\\envs\\pytorch_env\\lib\\site-packages\\torch\\_tensor.py:647\u001b[0m, in \u001b[0;36mTensor.backward\u001b[1;34m(self, gradient, retain_graph, create_graph, inputs)\u001b[0m\n\u001b[0;32m    637\u001b[0m \u001b[38;5;28;01mif\u001b[39;00m has_torch_function_unary(\u001b[38;5;28mself\u001b[39m):\n\u001b[0;32m    638\u001b[0m     \u001b[38;5;28;01mreturn\u001b[39;00m handle_torch_function(\n\u001b[0;32m    639\u001b[0m         Tensor\u001b[38;5;241m.\u001b[39mbackward,\n\u001b[0;32m    640\u001b[0m         (\u001b[38;5;28mself\u001b[39m,),\n\u001b[1;32m   (...)\u001b[0m\n\u001b[0;32m    645\u001b[0m         inputs\u001b[38;5;241m=\u001b[39minputs,\n\u001b[0;32m    646\u001b[0m     )\n\u001b[1;32m--> 647\u001b[0m \u001b[43mtorch\u001b[49m\u001b[38;5;241;43m.\u001b[39;49m\u001b[43mautograd\u001b[49m\u001b[38;5;241;43m.\u001b[39;49m\u001b[43mbackward\u001b[49m\u001b[43m(\u001b[49m\n\u001b[0;32m    648\u001b[0m \u001b[43m    \u001b[49m\u001b[38;5;28;43mself\u001b[39;49m\u001b[43m,\u001b[49m\u001b[43m \u001b[49m\u001b[43mgradient\u001b[49m\u001b[43m,\u001b[49m\u001b[43m \u001b[49m\u001b[43mretain_graph\u001b[49m\u001b[43m,\u001b[49m\u001b[43m \u001b[49m\u001b[43mcreate_graph\u001b[49m\u001b[43m,\u001b[49m\u001b[43m \u001b[49m\u001b[43minputs\u001b[49m\u001b[38;5;241;43m=\u001b[39;49m\u001b[43minputs\u001b[49m\n\u001b[0;32m    649\u001b[0m \u001b[43m\u001b[49m\u001b[43m)\u001b[49m\n",
      "File \u001b[1;32m~\\miniconda3\\envs\\pytorch_env\\lib\\site-packages\\torch\\autograd\\__init__.py:354\u001b[0m, in \u001b[0;36mbackward\u001b[1;34m(tensors, grad_tensors, retain_graph, create_graph, grad_variables, inputs)\u001b[0m\n\u001b[0;32m    349\u001b[0m     retain_graph \u001b[38;5;241m=\u001b[39m create_graph\n\u001b[0;32m    351\u001b[0m \u001b[38;5;66;03m# The reason we repeat the same comment below is that\u001b[39;00m\n\u001b[0;32m    352\u001b[0m \u001b[38;5;66;03m# some Python versions print out the first line of a multi-line function\u001b[39;00m\n\u001b[0;32m    353\u001b[0m \u001b[38;5;66;03m# calls in the traceback and some print out the last line\u001b[39;00m\n\u001b[1;32m--> 354\u001b[0m \u001b[43m_engine_run_backward\u001b[49m\u001b[43m(\u001b[49m\n\u001b[0;32m    355\u001b[0m \u001b[43m    \u001b[49m\u001b[43mtensors\u001b[49m\u001b[43m,\u001b[49m\n\u001b[0;32m    356\u001b[0m \u001b[43m    \u001b[49m\u001b[43mgrad_tensors_\u001b[49m\u001b[43m,\u001b[49m\n\u001b[0;32m    357\u001b[0m \u001b[43m    \u001b[49m\u001b[43mretain_graph\u001b[49m\u001b[43m,\u001b[49m\n\u001b[0;32m    358\u001b[0m \u001b[43m    \u001b[49m\u001b[43mcreate_graph\u001b[49m\u001b[43m,\u001b[49m\n\u001b[0;32m    359\u001b[0m \u001b[43m    \u001b[49m\u001b[43minputs_tuple\u001b[49m\u001b[43m,\u001b[49m\n\u001b[0;32m    360\u001b[0m \u001b[43m    \u001b[49m\u001b[43mallow_unreachable\u001b[49m\u001b[38;5;241;43m=\u001b[39;49m\u001b[38;5;28;43;01mTrue\u001b[39;49;00m\u001b[43m,\u001b[49m\n\u001b[0;32m    361\u001b[0m \u001b[43m    \u001b[49m\u001b[43maccumulate_grad\u001b[49m\u001b[38;5;241;43m=\u001b[39;49m\u001b[38;5;28;43;01mTrue\u001b[39;49;00m\u001b[43m,\u001b[49m\n\u001b[0;32m    362\u001b[0m \u001b[43m\u001b[49m\u001b[43m)\u001b[49m\n",
      "File \u001b[1;32m~\\miniconda3\\envs\\pytorch_env\\lib\\site-packages\\torch\\autograd\\graph.py:829\u001b[0m, in \u001b[0;36m_engine_run_backward\u001b[1;34m(t_outputs, *args, **kwargs)\u001b[0m\n\u001b[0;32m    827\u001b[0m     unregister_hooks \u001b[38;5;241m=\u001b[39m _register_logging_hooks_on_whole_graph(t_outputs)\n\u001b[0;32m    828\u001b[0m \u001b[38;5;28;01mtry\u001b[39;00m:\n\u001b[1;32m--> 829\u001b[0m     \u001b[38;5;28;01mreturn\u001b[39;00m Variable\u001b[38;5;241m.\u001b[39m_execution_engine\u001b[38;5;241m.\u001b[39mrun_backward(  \u001b[38;5;66;03m# Calls into the C++ engine to run the backward pass\u001b[39;00m\n\u001b[0;32m    830\u001b[0m         t_outputs, \u001b[38;5;241m*\u001b[39margs, \u001b[38;5;241m*\u001b[39m\u001b[38;5;241m*\u001b[39mkwargs\n\u001b[0;32m    831\u001b[0m     )  \u001b[38;5;66;03m# Calls into the C++ engine to run the backward pass\u001b[39;00m\n\u001b[0;32m    832\u001b[0m \u001b[38;5;28;01mfinally\u001b[39;00m:\n\u001b[0;32m    833\u001b[0m     \u001b[38;5;28;01mif\u001b[39;00m attach_logging_hooks:\n",
      "\u001b[1;31mKeyboardInterrupt\u001b[0m: "
     ]
    }
   ],
   "source": [
    "device = torch.device(\"cuda\" if torch.cuda.is_available() else \"cpu\")\n",
    "\n",
    "for epoch in range(1, 6):  # entrenamos 5 épocas\n",
    "    train(model, train_loader, device, metric, epoch, optimizer)\n",
    "    evaluate(model, device, test_loader, metric)\n"
   ]
  },
  {
   "cell_type": "markdown",
   "id": "5fe64d90-0e86-4483-bc6f-89fa0e412211",
   "metadata": {},
   "source": [
    "Definitely underfitting."
   ]
  },
  {
   "cell_type": "code",
   "execution_count": 10,
   "id": "1334f5d8-74b1-41fb-916a-b895d263f2ce",
   "metadata": {},
   "outputs": [],
   "source": [
    "class SimpleCNN(nn.Module):\n",
    "    def __init__(self):\n",
    "        super(SimpleCNN, self).__init__()\n",
    "        self.conv1 = nn.Conv2d(3,32,3,1) #only change the chanels\n",
    "        self.conv2 = nn.Conv2d(32,64,1)\n",
    "        self.conv3 = nn.Conv2d(64,128,1)\n",
    "        self.full1 = nn.Linear(14*14*128,256)\n",
    "        self.full2 = nn.Linear(256,10)\n",
    "        \n",
    "    def forward(self, x):\n",
    "        x = F.relu(self.conv1(x))\n",
    "        x = F.relu(self.conv2(x))\n",
    "        x = F.max_pool2d(x,2)\n",
    "        x = F.relu(self.conv3(x))\n",
    "        x = F.max_pool2d(x,2)\n",
    "        x = torch.flatten(x,1)\n",
    "        x = F.relu(self.full1(x))\n",
    "        x = self.full2(x)\n",
    "\n",
    "        return x"
   ]
  },
  {
   "cell_type": "code",
   "execution_count": 9,
   "id": "44a6102a-d860-465a-8d23-9259377f836a",
   "metadata": {
    "scrolled": true
   },
   "outputs": [
    {
     "name": "stdout",
     "output_type": "stream",
     "text": [
      "Época 1 | Lote 0 | Pérdida: 2.3023\n",
      "Época 1 | Lote 100 | Pérdida: 1.7098\n",
      "Época 1 | Lote 200 | Pérdida: 1.5849\n",
      "Época 1 | Lote 300 | Pérdida: 1.5186\n",
      "Época 1 | Lote 400 | Pérdida: 1.1585\n",
      "Época 1 | Lote 500 | Pérdida: 1.2978\n",
      "Época 1 | Lote 600 | Pérdida: 0.8950\n",
      "Época 1 | Lote 700 | Pérdida: 1.1868\n",
      "\n",
      "Pérdida promedio en test: 0.0011, Precisión: 59.99%\n",
      "\n",
      "Época 2 | Lote 0 | Pérdida: 1.1988\n",
      "Época 2 | Lote 100 | Pérdida: 0.9167\n",
      "Época 2 | Lote 200 | Pérdida: 1.0174\n",
      "Época 2 | Lote 300 | Pérdida: 0.6777\n",
      "Época 2 | Lote 400 | Pérdida: 1.1762\n",
      "Época 2 | Lote 500 | Pérdida: 1.1342\n",
      "Época 2 | Lote 600 | Pérdida: 1.1499\n",
      "Época 2 | Lote 700 | Pérdida: 0.9798\n",
      "\n",
      "Pérdida promedio en test: 0.0010, Precisión: 65.74%\n",
      "\n",
      "Época 3 | Lote 0 | Pérdida: 0.7342\n",
      "Época 3 | Lote 100 | Pérdida: 0.9794\n",
      "Época 3 | Lote 200 | Pérdida: 0.8515\n",
      "Época 3 | Lote 300 | Pérdida: 0.8779\n",
      "Época 3 | Lote 400 | Pérdida: 1.0512\n",
      "Época 3 | Lote 500 | Pérdida: 0.8302\n",
      "Época 3 | Lote 600 | Pérdida: 0.8377\n",
      "Época 3 | Lote 700 | Pérdida: 0.6798\n",
      "\n",
      "Pérdida promedio en test: 0.0009, Precisión: 67.44%\n",
      "\n",
      "Época 4 | Lote 0 | Pérdida: 0.6530\n",
      "Época 4 | Lote 100 | Pérdida: 0.7609\n",
      "Época 4 | Lote 200 | Pérdida: 0.7875\n",
      "Época 4 | Lote 300 | Pérdida: 0.6340\n",
      "Época 4 | Lote 400 | Pérdida: 0.6988\n",
      "Época 4 | Lote 500 | Pérdida: 0.6806\n",
      "Época 4 | Lote 600 | Pérdida: 0.7248\n",
      "Época 4 | Lote 700 | Pérdida: 0.7986\n",
      "\n",
      "Pérdida promedio en test: 0.0009, Precisión: 68.76%\n",
      "\n",
      "Época 5 | Lote 0 | Pérdida: 0.5127\n",
      "Época 5 | Lote 100 | Pérdida: 0.7492\n",
      "Época 5 | Lote 200 | Pérdida: 0.6192\n",
      "Época 5 | Lote 300 | Pérdida: 0.5565\n",
      "Época 5 | Lote 400 | Pérdida: 0.7418\n",
      "Época 5 | Lote 500 | Pérdida: 0.5364\n",
      "Época 5 | Lote 600 | Pérdida: 0.7646\n",
      "Época 5 | Lote 700 | Pérdida: 0.8436\n",
      "\n",
      "Pérdida promedio en test: 0.0010, Precisión: 68.06%\n",
      "\n"
     ]
    }
   ],
   "source": [
    "device = torch.device(\"cuda\" if torch.cuda.is_available() else \"cpu\")\n",
    "\n",
    "for epoch in range(1, 6):  # entrenamos 5 épocas\n",
    "    train(model, train_loader, device, metric, epoch, optimizer)\n",
    "    evaluate(model, device, test_loader, metric)\n"
   ]
  },
  {
   "cell_type": "markdown",
   "id": "5263f47c-a797-4001-a248-093fc4ec1f7d",
   "metadata": {},
   "source": [
    "Lets change the kernel size. "
   ]
  },
  {
   "cell_type": "code",
   "execution_count": 8,
   "id": "028b86c6-a1d7-4b76-90e1-988c5fab39cb",
   "metadata": {},
   "outputs": [],
   "source": [
    "class SimpleCNN(nn.Module):\n",
    "    def __init__(self):\n",
    "        super(SimpleCNN, self).__init__()\n",
    "        self.conv1 = nn.Conv2d(3,32,3,1) #only change the chanels\n",
    "        self.conv2 = nn.Conv2d(32,64,3,1)\n",
    "        self.conv3 = nn.Conv2d(64,128,3,1)\n",
    "        self.full1 = nn.Linear(6*6*128,256)\n",
    "        self.full2 = nn.Linear(256,10)\n",
    "        \n",
    "    def forward(self, x):\n",
    "        x = F.relu(self.conv1(x))\n",
    "        x = F.relu(self.conv2(x))\n",
    "        x = F.max_pool2d(x,2)\n",
    "        x = F.relu(self.conv3(x))\n",
    "        x = F.max_pool2d(x,2)\n",
    "        x = torch.flatten(x,1)\n",
    "        x = F.relu(self.full1(x))\n",
    "        x = self.full2(x)\n",
    "\n",
    "        return x"
   ]
  },
  {
   "cell_type": "code",
   "execution_count": 9,
   "id": "fb8da451-a074-4617-a159-cd3b364b173b",
   "metadata": {},
   "outputs": [],
   "source": [
    "model = SimpleCNN() "
   ]
  },
  {
   "cell_type": "code",
   "execution_count": 24,
   "id": "6eec0785-57e1-4a80-abbf-425744a755ef",
   "metadata": {
    "scrolled": true
   },
   "outputs": [
    {
     "name": "stdout",
     "output_type": "stream",
     "text": [
      "Época 1 | Lote 0 | Pérdida: 2.3085\n",
      "Época 1 | Lote 100 | Pérdida: 2.2941\n",
      "Época 1 | Lote 200 | Pérdida: 2.3035\n",
      "Época 1 | Lote 300 | Pérdida: 2.3069\n",
      "Época 1 | Lote 400 | Pérdida: 2.3073\n",
      "Época 1 | Lote 500 | Pérdida: 2.2956\n",
      "Época 1 | Lote 600 | Pérdida: 2.3016\n",
      "Época 1 | Lote 700 | Pérdida: 2.2961\n",
      "\n",
      "Pérdida promedio en test: 0.0023, Precisión: 9.92%\n",
      "\n",
      "Época 2 | Lote 0 | Pérdida: 2.3012\n",
      "Época 2 | Lote 100 | Pérdida: 2.3020\n",
      "Época 2 | Lote 200 | Pérdida: 2.3045\n",
      "Época 2 | Lote 300 | Pérdida: 2.3067\n",
      "Época 2 | Lote 400 | Pérdida: 2.3070\n",
      "Época 2 | Lote 500 | Pérdida: 2.3130\n",
      "Época 2 | Lote 600 | Pérdida: 2.3070\n",
      "Época 2 | Lote 700 | Pérdida: 2.3022\n",
      "\n",
      "Pérdida promedio en test: 0.0023, Precisión: 9.92%\n",
      "\n",
      "Época 3 | Lote 0 | Pérdida: 2.3054\n"
     ]
    },
    {
     "ename": "KeyboardInterrupt",
     "evalue": "",
     "output_type": "error",
     "traceback": [
      "\u001b[1;31m----------------------------------------\u001b[0m",
      "\u001b[1;31mKeyboardInterrupt\u001b[0mTraceback (most recent call last)",
      "Cell \u001b[1;32mIn[24], line 4\u001b[0m\n\u001b[0;32m      1\u001b[0m device \u001b[38;5;241m=\u001b[39m torch\u001b[38;5;241m.\u001b[39mdevice(\u001b[38;5;124m\"\u001b[39m\u001b[38;5;124mcuda\u001b[39m\u001b[38;5;124m\"\u001b[39m \u001b[38;5;28;01mif\u001b[39;00m torch\u001b[38;5;241m.\u001b[39mcuda\u001b[38;5;241m.\u001b[39mis_available() \u001b[38;5;28;01melse\u001b[39;00m \u001b[38;5;124m\"\u001b[39m\u001b[38;5;124mcpu\u001b[39m\u001b[38;5;124m\"\u001b[39m)\n\u001b[0;32m      3\u001b[0m \u001b[38;5;28;01mfor\u001b[39;00m epoch \u001b[38;5;129;01min\u001b[39;00m \u001b[38;5;28mrange\u001b[39m(\u001b[38;5;241m1\u001b[39m, \u001b[38;5;241m6\u001b[39m):  \u001b[38;5;66;03m# entrenamos 5 épocas\u001b[39;00m\n\u001b[1;32m----> 4\u001b[0m     \u001b[43mtrain\u001b[49m\u001b[43m(\u001b[49m\u001b[43mmodel\u001b[49m\u001b[43m,\u001b[49m\u001b[43m \u001b[49m\u001b[43mtrain_loader\u001b[49m\u001b[43m,\u001b[49m\u001b[43m \u001b[49m\u001b[43mdevice\u001b[49m\u001b[43m,\u001b[49m\u001b[43m \u001b[49m\u001b[43mmetric\u001b[49m\u001b[43m,\u001b[49m\u001b[43m \u001b[49m\u001b[43mepoch\u001b[49m\u001b[43m,\u001b[49m\u001b[43m \u001b[49m\u001b[43moptimizer\u001b[49m\u001b[43m)\u001b[49m\n\u001b[0;32m      5\u001b[0m     evaluate(model, device, test_loader, metric)\n",
      "Cell \u001b[1;32mIn[14], line 9\u001b[0m, in \u001b[0;36mtrain\u001b[1;34m(model, train_loader, device, metric, epochs, optimizer)\u001b[0m\n\u001b[0;32m      5\u001b[0m data, targets \u001b[38;5;241m=\u001b[39m data\u001b[38;5;241m.\u001b[39mto(device), targets\u001b[38;5;241m.\u001b[39mto(device)\n\u001b[0;32m      7\u001b[0m optimizer\u001b[38;5;241m.\u001b[39mzero_grad()\n\u001b[1;32m----> 9\u001b[0m output \u001b[38;5;241m=\u001b[39m \u001b[43mmodel\u001b[49m\u001b[43m(\u001b[49m\u001b[43mdata\u001b[49m\u001b[43m)\u001b[49m\n\u001b[0;32m     11\u001b[0m loss \u001b[38;5;241m=\u001b[39m metric(output, targets)\n\u001b[0;32m     13\u001b[0m loss\u001b[38;5;241m.\u001b[39mbackward()\n",
      "File \u001b[1;32m~\\miniconda3\\envs\\pytorch_env\\lib\\site-packages\\torch\\nn\\modules\\module.py:1773\u001b[0m, in \u001b[0;36mModule._wrapped_call_impl\u001b[1;34m(self, *args, **kwargs)\u001b[0m\n\u001b[0;32m   1771\u001b[0m     \u001b[38;5;28;01mreturn\u001b[39;00m \u001b[38;5;28mself\u001b[39m\u001b[38;5;241m.\u001b[39m_compiled_call_impl(\u001b[38;5;241m*\u001b[39margs, \u001b[38;5;241m*\u001b[39m\u001b[38;5;241m*\u001b[39mkwargs)  \u001b[38;5;66;03m# type: ignore[misc]\u001b[39;00m\n\u001b[0;32m   1772\u001b[0m \u001b[38;5;28;01melse\u001b[39;00m:\n\u001b[1;32m-> 1773\u001b[0m     \u001b[38;5;28;01mreturn\u001b[39;00m \u001b[38;5;28mself\u001b[39m\u001b[38;5;241m.\u001b[39m_call_impl(\u001b[38;5;241m*\u001b[39margs, \u001b[38;5;241m*\u001b[39m\u001b[38;5;241m*\u001b[39mkwargs)\n",
      "File \u001b[1;32m~\\miniconda3\\envs\\pytorch_env\\lib\\site-packages\\torch\\nn\\modules\\module.py:1784\u001b[0m, in \u001b[0;36mModule._call_impl\u001b[1;34m(self, *args, **kwargs)\u001b[0m\n\u001b[0;32m   1779\u001b[0m \u001b[38;5;66;03m# If we don't have any hooks, we want to skip the rest of the logic in\u001b[39;00m\n\u001b[0;32m   1780\u001b[0m \u001b[38;5;66;03m# this function, and just call forward.\u001b[39;00m\n\u001b[0;32m   1781\u001b[0m \u001b[38;5;28;01mif\u001b[39;00m \u001b[38;5;129;01mnot\u001b[39;00m (\u001b[38;5;28mself\u001b[39m\u001b[38;5;241m.\u001b[39m_backward_hooks \u001b[38;5;129;01mor\u001b[39;00m \u001b[38;5;28mself\u001b[39m\u001b[38;5;241m.\u001b[39m_backward_pre_hooks \u001b[38;5;129;01mor\u001b[39;00m \u001b[38;5;28mself\u001b[39m\u001b[38;5;241m.\u001b[39m_forward_hooks \u001b[38;5;129;01mor\u001b[39;00m \u001b[38;5;28mself\u001b[39m\u001b[38;5;241m.\u001b[39m_forward_pre_hooks\n\u001b[0;32m   1782\u001b[0m         \u001b[38;5;129;01mor\u001b[39;00m _global_backward_pre_hooks \u001b[38;5;129;01mor\u001b[39;00m _global_backward_hooks\n\u001b[0;32m   1783\u001b[0m         \u001b[38;5;129;01mor\u001b[39;00m _global_forward_hooks \u001b[38;5;129;01mor\u001b[39;00m _global_forward_pre_hooks):\n\u001b[1;32m-> 1784\u001b[0m     \u001b[38;5;28;01mreturn\u001b[39;00m forward_call(\u001b[38;5;241m*\u001b[39margs, \u001b[38;5;241m*\u001b[39m\u001b[38;5;241m*\u001b[39mkwargs)\n\u001b[0;32m   1786\u001b[0m result \u001b[38;5;241m=\u001b[39m \u001b[38;5;28;01mNone\u001b[39;00m\n\u001b[0;32m   1787\u001b[0m called_always_called_hooks \u001b[38;5;241m=\u001b[39m \u001b[38;5;28mset\u001b[39m()\n",
      "Cell \u001b[1;32mIn[22], line 14\u001b[0m, in \u001b[0;36mSimpleCNN.forward\u001b[1;34m(self, x)\u001b[0m\n\u001b[0;32m     12\u001b[0m x \u001b[38;5;241m=\u001b[39m F\u001b[38;5;241m.\u001b[39mrelu(\u001b[38;5;28mself\u001b[39m\u001b[38;5;241m.\u001b[39mconv2(x))\n\u001b[0;32m     13\u001b[0m x \u001b[38;5;241m=\u001b[39m F\u001b[38;5;241m.\u001b[39mmax_pool2d(x,\u001b[38;5;241m2\u001b[39m)\n\u001b[1;32m---> 14\u001b[0m x \u001b[38;5;241m=\u001b[39m F\u001b[38;5;241m.\u001b[39mrelu(\u001b[38;5;28;43mself\u001b[39;49m\u001b[38;5;241;43m.\u001b[39;49m\u001b[43mconv3\u001b[49m\u001b[43m(\u001b[49m\u001b[43mx\u001b[49m\u001b[43m)\u001b[49m)\n\u001b[0;32m     15\u001b[0m x \u001b[38;5;241m=\u001b[39m F\u001b[38;5;241m.\u001b[39mmax_pool2d(x,\u001b[38;5;241m2\u001b[39m)\n\u001b[0;32m     16\u001b[0m x \u001b[38;5;241m=\u001b[39m torch\u001b[38;5;241m.\u001b[39mflatten(x,\u001b[38;5;241m1\u001b[39m)\n",
      "File \u001b[1;32m~\\miniconda3\\envs\\pytorch_env\\lib\\site-packages\\torch\\nn\\modules\\module.py:1773\u001b[0m, in \u001b[0;36mModule._wrapped_call_impl\u001b[1;34m(self, *args, **kwargs)\u001b[0m\n\u001b[0;32m   1771\u001b[0m     \u001b[38;5;28;01mreturn\u001b[39;00m \u001b[38;5;28mself\u001b[39m\u001b[38;5;241m.\u001b[39m_compiled_call_impl(\u001b[38;5;241m*\u001b[39margs, \u001b[38;5;241m*\u001b[39m\u001b[38;5;241m*\u001b[39mkwargs)  \u001b[38;5;66;03m# type: ignore[misc]\u001b[39;00m\n\u001b[0;32m   1772\u001b[0m \u001b[38;5;28;01melse\u001b[39;00m:\n\u001b[1;32m-> 1773\u001b[0m     \u001b[38;5;28;01mreturn\u001b[39;00m \u001b[38;5;28mself\u001b[39m\u001b[38;5;241m.\u001b[39m_call_impl(\u001b[38;5;241m*\u001b[39margs, \u001b[38;5;241m*\u001b[39m\u001b[38;5;241m*\u001b[39mkwargs)\n",
      "File \u001b[1;32m~\\miniconda3\\envs\\pytorch_env\\lib\\site-packages\\torch\\nn\\modules\\module.py:1784\u001b[0m, in \u001b[0;36mModule._call_impl\u001b[1;34m(self, *args, **kwargs)\u001b[0m\n\u001b[0;32m   1779\u001b[0m \u001b[38;5;66;03m# If we don't have any hooks, we want to skip the rest of the logic in\u001b[39;00m\n\u001b[0;32m   1780\u001b[0m \u001b[38;5;66;03m# this function, and just call forward.\u001b[39;00m\n\u001b[0;32m   1781\u001b[0m \u001b[38;5;28;01mif\u001b[39;00m \u001b[38;5;129;01mnot\u001b[39;00m (\u001b[38;5;28mself\u001b[39m\u001b[38;5;241m.\u001b[39m_backward_hooks \u001b[38;5;129;01mor\u001b[39;00m \u001b[38;5;28mself\u001b[39m\u001b[38;5;241m.\u001b[39m_backward_pre_hooks \u001b[38;5;129;01mor\u001b[39;00m \u001b[38;5;28mself\u001b[39m\u001b[38;5;241m.\u001b[39m_forward_hooks \u001b[38;5;129;01mor\u001b[39;00m \u001b[38;5;28mself\u001b[39m\u001b[38;5;241m.\u001b[39m_forward_pre_hooks\n\u001b[0;32m   1782\u001b[0m         \u001b[38;5;129;01mor\u001b[39;00m _global_backward_pre_hooks \u001b[38;5;129;01mor\u001b[39;00m _global_backward_hooks\n\u001b[0;32m   1783\u001b[0m         \u001b[38;5;129;01mor\u001b[39;00m _global_forward_hooks \u001b[38;5;129;01mor\u001b[39;00m _global_forward_pre_hooks):\n\u001b[1;32m-> 1784\u001b[0m     \u001b[38;5;28;01mreturn\u001b[39;00m forward_call(\u001b[38;5;241m*\u001b[39margs, \u001b[38;5;241m*\u001b[39m\u001b[38;5;241m*\u001b[39mkwargs)\n\u001b[0;32m   1786\u001b[0m result \u001b[38;5;241m=\u001b[39m \u001b[38;5;28;01mNone\u001b[39;00m\n\u001b[0;32m   1787\u001b[0m called_always_called_hooks \u001b[38;5;241m=\u001b[39m \u001b[38;5;28mset\u001b[39m()\n",
      "File \u001b[1;32m~\\miniconda3\\envs\\pytorch_env\\lib\\site-packages\\torch\\nn\\modules\\conv.py:548\u001b[0m, in \u001b[0;36mConv2d.forward\u001b[1;34m(self, input)\u001b[0m\n\u001b[0;32m    547\u001b[0m \u001b[38;5;28;01mdef\u001b[39;00m\u001b[38;5;250m \u001b[39m\u001b[38;5;21mforward\u001b[39m(\u001b[38;5;28mself\u001b[39m, \u001b[38;5;28minput\u001b[39m: Tensor) \u001b[38;5;241m-\u001b[39m\u001b[38;5;241m>\u001b[39m Tensor:\n\u001b[1;32m--> 548\u001b[0m     \u001b[38;5;28;01mreturn\u001b[39;00m \u001b[38;5;28;43mself\u001b[39;49m\u001b[38;5;241;43m.\u001b[39;49m\u001b[43m_conv_forward\u001b[49m\u001b[43m(\u001b[49m\u001b[38;5;28;43minput\u001b[39;49m\u001b[43m,\u001b[49m\u001b[43m \u001b[49m\u001b[38;5;28;43mself\u001b[39;49m\u001b[38;5;241;43m.\u001b[39;49m\u001b[43mweight\u001b[49m\u001b[43m,\u001b[49m\u001b[43m \u001b[49m\u001b[38;5;28;43mself\u001b[39;49m\u001b[38;5;241;43m.\u001b[39;49m\u001b[43mbias\u001b[49m\u001b[43m)\u001b[49m\n",
      "File \u001b[1;32m~\\miniconda3\\envs\\pytorch_env\\lib\\site-packages\\torch\\nn\\modules\\conv.py:543\u001b[0m, in \u001b[0;36mConv2d._conv_forward\u001b[1;34m(self, input, weight, bias)\u001b[0m\n\u001b[0;32m    531\u001b[0m \u001b[38;5;28;01mif\u001b[39;00m \u001b[38;5;28mself\u001b[39m\u001b[38;5;241m.\u001b[39mpadding_mode \u001b[38;5;241m!=\u001b[39m \u001b[38;5;124m\"\u001b[39m\u001b[38;5;124mzeros\u001b[39m\u001b[38;5;124m\"\u001b[39m:\n\u001b[0;32m    532\u001b[0m     \u001b[38;5;28;01mreturn\u001b[39;00m F\u001b[38;5;241m.\u001b[39mconv2d(\n\u001b[0;32m    533\u001b[0m         F\u001b[38;5;241m.\u001b[39mpad(\n\u001b[0;32m    534\u001b[0m             \u001b[38;5;28minput\u001b[39m, \u001b[38;5;28mself\u001b[39m\u001b[38;5;241m.\u001b[39m_reversed_padding_repeated_twice, mode\u001b[38;5;241m=\u001b[39m\u001b[38;5;28mself\u001b[39m\u001b[38;5;241m.\u001b[39mpadding_mode\n\u001b[1;32m   (...)\u001b[0m\n\u001b[0;32m    541\u001b[0m         \u001b[38;5;28mself\u001b[39m\u001b[38;5;241m.\u001b[39mgroups,\n\u001b[0;32m    542\u001b[0m     )\n\u001b[1;32m--> 543\u001b[0m \u001b[38;5;28;01mreturn\u001b[39;00m \u001b[43mF\u001b[49m\u001b[38;5;241;43m.\u001b[39;49m\u001b[43mconv2d\u001b[49m\u001b[43m(\u001b[49m\n\u001b[0;32m    544\u001b[0m \u001b[43m    \u001b[49m\u001b[38;5;28;43minput\u001b[39;49m\u001b[43m,\u001b[49m\u001b[43m \u001b[49m\u001b[43mweight\u001b[49m\u001b[43m,\u001b[49m\u001b[43m \u001b[49m\u001b[43mbias\u001b[49m\u001b[43m,\u001b[49m\u001b[43m \u001b[49m\u001b[38;5;28;43mself\u001b[39;49m\u001b[38;5;241;43m.\u001b[39;49m\u001b[43mstride\u001b[49m\u001b[43m,\u001b[49m\u001b[43m \u001b[49m\u001b[38;5;28;43mself\u001b[39;49m\u001b[38;5;241;43m.\u001b[39;49m\u001b[43mpadding\u001b[49m\u001b[43m,\u001b[49m\u001b[43m \u001b[49m\u001b[38;5;28;43mself\u001b[39;49m\u001b[38;5;241;43m.\u001b[39;49m\u001b[43mdilation\u001b[49m\u001b[43m,\u001b[49m\u001b[43m \u001b[49m\u001b[38;5;28;43mself\u001b[39;49m\u001b[38;5;241;43m.\u001b[39;49m\u001b[43mgroups\u001b[49m\n\u001b[0;32m    545\u001b[0m \u001b[43m\u001b[49m\u001b[43m)\u001b[49m\n",
      "\u001b[1;31mKeyboardInterrupt\u001b[0m: "
     ]
    }
   ],
   "source": [
    "device = torch.device(\"cuda\" if torch.cuda.is_available() else \"cpu\")\n",
    "\n",
    "for epoch in range(1, 6):  # entrenamos 5 épocas\n",
    "    train(model, train_loader, device, metric, epoch, optimizer)\n",
    "    evaluate(model, device, test_loader, metric)\n"
   ]
  },
  {
   "cell_type": "markdown",
   "id": "16cb4bc9-4697-465f-9361-2873c8d0fe1e",
   "metadata": {},
   "source": [
    "I think i should use batchnorm because the network is heavier and the activations would explode."
   ]
  },
  {
   "cell_type": "code",
   "execution_count": 10,
   "id": "59743c22-2f54-4c5d-a9c9-c926cdc9b2da",
   "metadata": {},
   "outputs": [],
   "source": [
    "class SimpleCNN(nn.Module):\n",
    "    def __init__(self):\n",
    "        super().__init__()\n",
    "        self.conv1 = nn.Conv2d(3,32,3,1)\n",
    "        self.conv2 = nn.Conv2d(32,64,3,1)\n",
    "        self.conv3 = nn.Conv2d(64,128,3,1)\n",
    "        self.bn1 = nn.BatchNorm2d(32)  \n",
    "        self.bn2 = nn.BatchNorm2d(64)\n",
    "        self.bn3 = nn.BatchNorm2d(128)\n",
    "        \n",
    "        self.fc1 = nn.Linear(128*6*6,256)\n",
    "        self.dropout = nn.Dropout(0.5) \n",
    "        self.fc2 = nn.Linear(256,10)\n",
    "        \n",
    "    def forward(self, x):\n",
    "        x = F.relu(self.bn1(self.conv1(x)))\n",
    "        x = F.relu(self.bn2(self.conv2(x)))\n",
    "        x = F.max_pool2d(x,2)\n",
    "        x = F.relu(self.bn3(self.conv3(x)))\n",
    "        x = F.max_pool2d(x,2)\n",
    "        x = torch.flatten(x,1)\n",
    "        x = F.relu(self.fc1(x))\n",
    "        x = self.dropout(x)  \n",
    "        x = self.fc2(x)\n",
    "        return x"
   ]
  },
  {
   "cell_type": "code",
   "execution_count": 12,
   "id": "a0fd8bab-60b9-46e5-bf36-4a561fac1f36",
   "metadata": {},
   "outputs": [],
   "source": [
    "model = SimpleCNN()"
   ]
  },
  {
   "cell_type": "code",
   "execution_count": 16,
   "id": "40ce01d5-0f95-48eb-8647-60c75392883e",
   "metadata": {},
   "outputs": [
    {
     "name": "stdout",
     "output_type": "stream",
     "text": [
      "Época 1 | Lote 0 | Pérdida: 0.8118\n",
      "Época 1 | Lote 100 | Pérdida: 0.7369\n",
      "Época 1 | Lote 200 | Pérdida: 0.6888\n",
      "Época 1 | Lote 300 | Pérdida: 0.7158\n",
      "Época 1 | Lote 400 | Pérdida: 0.6138\n",
      "Época 1 | Lote 500 | Pérdida: 0.7415\n",
      "Época 1 | Lote 600 | Pérdida: 1.1334\n",
      "Época 1 | Lote 700 | Pérdida: 0.6786\n",
      "\n",
      "Pérdida promedio en test: 0.0007, Precisión: 75.38%\n",
      "\n",
      "Época 2 | Lote 0 | Pérdida: 0.8483\n",
      "Época 2 | Lote 100 | Pérdida: 0.7162\n",
      "Época 2 | Lote 200 | Pérdida: 0.6166\n",
      "Época 2 | Lote 300 | Pérdida: 0.9041\n",
      "Época 2 | Lote 400 | Pérdida: 0.8154\n",
      "Época 2 | Lote 500 | Pérdida: 0.8425\n",
      "Época 2 | Lote 600 | Pérdida: 0.6791\n",
      "Época 2 | Lote 700 | Pérdida: 0.6608\n",
      "\n",
      "Pérdida promedio en test: 0.0007, Precisión: 76.34%\n",
      "\n",
      "Época 3 | Lote 0 | Pérdida: 0.6291\n",
      "Época 3 | Lote 100 | Pérdida: 0.6285\n",
      "Época 3 | Lote 200 | Pérdida: 0.7109\n",
      "Época 3 | Lote 300 | Pérdida: 0.7430\n",
      "Época 3 | Lote 400 | Pérdida: 0.7352\n",
      "Época 3 | Lote 500 | Pérdida: 0.6994\n",
      "Época 3 | Lote 600 | Pérdida: 0.9023\n",
      "Época 3 | Lote 700 | Pérdida: 0.8926\n",
      "\n",
      "Pérdida promedio en test: 0.0007, Precisión: 76.97%\n",
      "\n",
      "Época 4 | Lote 0 | Pérdida: 0.6705\n",
      "Época 4 | Lote 100 | Pérdida: 0.6633\n",
      "Época 4 | Lote 200 | Pérdida: 0.7563\n",
      "Época 4 | Lote 300 | Pérdida: 0.7503\n",
      "Época 4 | Lote 400 | Pérdida: 0.5798\n",
      "Época 4 | Lote 500 | Pérdida: 0.5037\n",
      "Época 4 | Lote 600 | Pérdida: 0.5943\n",
      "Época 4 | Lote 700 | Pérdida: 0.9090\n",
      "\n",
      "Pérdida promedio en test: 0.0006, Precisión: 77.73%\n",
      "\n",
      "Época 5 | Lote 0 | Pérdida: 0.7521\n",
      "Época 5 | Lote 100 | Pérdida: 0.4522\n",
      "Época 5 | Lote 200 | Pérdida: 0.4798\n",
      "Época 5 | Lote 300 | Pérdida: 0.4936\n",
      "Época 5 | Lote 400 | Pérdida: 0.5223\n",
      "Época 5 | Lote 500 | Pérdida: 0.5906\n",
      "Época 5 | Lote 600 | Pérdida: 0.5979\n",
      "Época 5 | Lote 700 | Pérdida: 0.5789\n",
      "\n",
      "Pérdida promedio en test: 0.0007, Precisión: 77.15%\n",
      "\n"
     ]
    }
   ],
   "source": [
    "device = torch.device(\"cuda\" if torch.cuda.is_available() else \"cpu\")\n",
    "\n",
    "for epoch in range(1, 6):  # entrenamos 5 épocas\n",
    "    train(model, train_loader, device, metric, epoch, optimizer)\n",
    "    evaluate(model, device, test_loader, metric)\n"
   ]
  },
  {
   "cell_type": "markdown",
   "id": "de17d47f-2f54-4082-8516-e8a77e725b6f",
   "metadata": {},
   "source": [
    "I implemented a colab version using GPU (my PC dont have one) right here achieving of accuracy with a stronger architecture and using early stopping + more epochs."
   ]
  },
  {
   "cell_type": "markdown",
   "id": "a6fe76da-e9da-4a36-b827-df92473a43e6",
   "metadata": {},
   "source": [
    "https://colab.research.google.com/drive/1zCVQ7lWG148b5nF9N_iCgf7eMjN32TLb?usp=sharing"
   ]
  },
  {
   "cell_type": "code",
   "execution_count": null,
   "id": "c2676700-bded-46f0-8412-21e66ca39d2d",
   "metadata": {},
   "outputs": [],
   "source": []
  }
 ],
 "metadata": {
  "kernelspec": {
   "display_name": "Python (pytorch_env)",
   "language": "python",
   "name": "pytorch_env"
  },
  "language_info": {
   "codemirror_mode": {
    "name": "ipython",
    "version": 3
   },
   "file_extension": ".py",
   "mimetype": "text/x-python",
   "name": "python",
   "nbconvert_exporter": "python",
   "pygments_lexer": "ipython3",
   "version": "3.10.18"
  }
 },
 "nbformat": 4,
 "nbformat_minor": 5
}
